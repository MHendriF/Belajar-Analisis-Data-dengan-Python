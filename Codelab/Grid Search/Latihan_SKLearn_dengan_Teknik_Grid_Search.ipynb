{
  "nbformat": 4,
  "nbformat_minor": 0,
  "metadata": {
    "colab": {
      "provenance": [],
      "authorship_tag": "ABX9TyMc6dhgGi/wF6Yp3DR2mYAj",
      "include_colab_link": true
    },
    "kernelspec": {
      "name": "python3",
      "display_name": "Python 3"
    },
    "language_info": {
      "name": "python"
    }
  },
  "cells": [
    {
      "cell_type": "markdown",
      "metadata": {
        "id": "view-in-github",
        "colab_type": "text"
      },
      "source": [
        "<a href=\"https://colab.research.google.com/github/MHendriF/Belajar-Analisis-Data-dengan-Python/blob/main/Codelab/Grid%20Search/Latihan_SKLearn_dengan_Teknik_Grid_Search.ipynb\" target=\"_parent\"><img src=\"https://colab.research.google.com/assets/colab-badge.svg\" alt=\"Open In Colab\"/></a>"
      ]
    },
    {
      "cell_type": "code",
      "execution_count": null,
      "metadata": {
        "id": "b4xSDWw2RHVj"
      },
      "outputs": [],
      "source": [
        "# Ubah dataset data menjadi Dataframe.\n",
        "# Definisikan parameter yang akan diuji.\n",
        "# Jalankan fungsi grid search.\n",
        "# Latih model dengan parameter terbaik hasil grid search.\n",
        "# Buat plot dari model."
      ]
    },
    {
      "cell_type": "code",
      "source": [
        "import pandas as pd\n",
        "\n",
        "# membaca dataset dan mengubahnya menjadi dataframe\n",
        "data = pd.read_csv('Salary_Data.csv')"
      ],
      "metadata": {
        "id": "9wQEsp4zRNZW"
      },
      "execution_count": 2,
      "outputs": []
    },
    {
      "cell_type": "code",
      "source": [
        "import numpy as np\n",
        "\n",
        "# memisahkan atribut dan label\n",
        "X = data['YearsExperience']\n",
        "y = data['Salary']\n",
        "\n",
        "# mengubah bentuk atribut\n",
        "X = np.array(X)\n",
        "X = X.reshape(-1,1)"
      ],
      "metadata": {
        "id": "5kp4f9Q0Rhrg"
      },
      "execution_count": 3,
      "outputs": []
    },
    {
      "cell_type": "code",
      "source": [],
      "metadata": {
        "id": "-LMobbMDRlC6"
      },
      "execution_count": null,
      "outputs": []
    }
  ]
}